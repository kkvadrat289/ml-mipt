{
 "cells": [
  {
   "cell_type": "code",
   "execution_count": 2,
   "metadata": {
    "collapsed": true
   },
   "outputs": [],
   "source": [
    "import numpy as np\n",
    "from matplotlib import pyplot as plt\n",
    "%matplotlib inline"
   ]
  },
  {
   "cell_type": "markdown",
   "metadata": {},
   "source": [
    "# Загрузка данных"
   ]
  },
  {
   "cell_type": "code",
   "execution_count": 3,
   "metadata": {
    "collapsed": false
   },
   "outputs": [],
   "source": [
    "from sklearn.datasets import load_boston"
   ]
  },
  {
   "cell_type": "code",
   "execution_count": 4,
   "metadata": {
    "collapsed": true
   },
   "outputs": [],
   "source": [
    "boston = load_boston()\n",
    "X = boston['data']\n",
    "y = boston['target']\n",
    "trainSize = len(X)/4*3\n",
    "X_train = X[:trainSize]\n",
    "y_train = y[:trainSize]\n",
    "X_test = X[trainSize:]\n",
    "y_test = y[trainSize:]"
   ]
  },
  {
   "cell_type": "markdown",
   "metadata": {},
   "source": [
    "# Построение решающего дерева"
   ]
  },
  {
   "cell_type": "code",
   "execution_count": 5,
   "metadata": {
    "collapsed": true
   },
   "outputs": [],
   "source": [
    "from numpy import std"
   ]
  },
  {
   "cell_type": "code",
   "execution_count": 6,
   "metadata": {
    "collapsed": false
   },
   "outputs": [],
   "source": [
    "# процедура разбиения данных (Q, q) по j-му признаку и порогу t\n",
    "def partition(Q, q, j, t):\n",
    "    L_indexes = [i for i in range(0, len(q)) if Q[i, j] <= t]\n",
    "    L_X = np.array([Q[i] for i in L_indexes])\n",
    "    L_y = np.array([q[i] for i in L_indexes])\n",
    "    R_indexes = [i for i in range(0, len(q)) if Q[i, j] > t]\n",
    "    R_X = np.array([Q[i] for i in R_indexes])\n",
    "    R_y = np.array([q[i] for i in R_indexes])\n",
    "    return L_X, L_y, R_X, R_y\n",
    "\n",
    "# мера неоднородности разбиения данных (Q, q) по j-му признаку и порогу t\n",
    "def G(Q, q, param):\n",
    "    j, t = param\n",
    "    L_X, L_y, R_X, R_y = partition(Q, q, j, t)\n",
    "    return float(len(L_y))/len(q)*std(L_y) + float(len(R_y))/len(q)*std(R_y)"
   ]
  },
  {
   "cell_type": "code",
   "execution_count": 7,
   "metadata": {
    "collapsed": true
   },
   "outputs": [],
   "source": [
    "# узел дерева\n",
    "class Node:\n",
    "    def __init__(self, j=-1, t=0):\n",
    "        self.j = j\n",
    "        self.t = t\n",
    "        self.left = 0\n",
    "        self.right = 0\n",
    "        self.parent = 0\n",
    "        self.depth = 0\n",
    "        self.answer = 0\n",
    "        self.leaf = 0\n",
    "        \n",
    "    def set_right(self, j=-1, t=0):\n",
    "        self.right = Node(j, t)\n",
    "        self.right.parent = self\n",
    "        \n",
    "    def set_left(self, j=-1, t=0):\n",
    "        self.left = Node(j, t)\n",
    "        self.left.parent = self\n",
    "        \n",
    "    def set_node(self, X, y):\n",
    "        jt = []\n",
    "        for j in range(0, 13):\n",
    "            feature = np.sort(list(set((X[:,j]))))\n",
    "            for t in [(feature[i] + feature[i-1]) / 2. for i in range(1, len(feature))]:\n",
    "                jt.append((j, t))\n",
    "        G_values = [G(X, y, jt[i]) for i in range(0, len(jt))]\n",
    "        j, t = jt[np.argmin(G_values)]\n",
    "        self.j = j\n",
    "        self.t = t\n",
    "        if self.parent != 0:\n",
    "            self.depth = self.parent.depth + 1\n",
    "        self.set_right()\n",
    "        self.set_left()\n",
    "        return partition(X, y, j, t)\n",
    "    \n",
    "    def get_depth(self):\n",
    "        return self.depth\n",
    "    \n",
    "    def set_leaf(self, y):\n",
    "        self.leaf = 1\n",
    "        self.answer = np.average(y)"
   ]
  },
  {
   "cell_type": "code",
   "execution_count": 8,
   "metadata": {
    "collapsed": false
   },
   "outputs": [],
   "source": [
    "class DesigionTree:\n",
    "    def __init__(self, max_depth):\n",
    "        self.max_depth = max_depth\n",
    "        self.root = Node()\n",
    "    \n",
    "    # рекурсивное построение дерева, построение завершается при достижении max_depth \n",
    "    # или при малом количестве элементов в узле. Если выполнен любой из этих критериев, узел\n",
    "    # помечается листом и в него записывается ответ\n",
    "    def build(self, current_node, X, y):            \n",
    "        L_X, L_y, R_X, R_y = current_node.set_node(X, y)\n",
    "        if current_node.get_depth() == self.max_depth:\n",
    "            current_node.right.set_leaf(R_y)\n",
    "            current_node.left.set_leaf(L_y)\n",
    "            return \n",
    "        if len(R_X) <= 1:\n",
    "            current_node.right.set_leaf(R_y)\n",
    "        else:\n",
    "            self.build(current_node.right, R_X, R_y)\n",
    "        if len(L_X) <= 1:\n",
    "            current_node.left.set_leaf(L_y)\n",
    "        else:\n",
    "            self.build(current_node.left, L_X, L_y)\n",
    "        \n",
    "    def fit(self, X, y):\n",
    "        current_node = self.root\n",
    "        self.build(current_node, X, y)\n",
    "        \n",
    "    def predict(self, X):\n",
    "        y = np.zeros(len(X))\n",
    "        for i in range(0, len(X)):\n",
    "            x = X[i]\n",
    "            current = self.root\n",
    "            while current.leaf == 0:\n",
    "                if x[current.j] <= current.t:\n",
    "                    current = current.left\n",
    "                else:\n",
    "                    current = current.right\n",
    "            y[i] = current.answer\n",
    "        return y"
   ]
  },
  {
   "cell_type": "markdown",
   "metadata": {},
   "source": [
    "# Применение дерева"
   ]
  },
  {
   "cell_type": "code",
   "execution_count": 15,
   "metadata": {
    "collapsed": false
   },
   "outputs": [],
   "source": [
    "from sklearn.metrics import mean_squared_error"
   ]
  },
  {
   "cell_type": "code",
   "execution_count": 26,
   "metadata": {
    "collapsed": false
   },
   "outputs": [
    {
     "name": "stdout",
     "output_type": "stream",
     "text": [
      "Mean squared error =  105.028587792\n"
     ]
    }
   ],
   "source": [
    "my_tree = DesigionTree(10)\n",
    "my_tree.fit(X_train,y_train)\n",
    "y0 = my_tree.predict(X_test)\n",
    "print \"Mean squared error = \", mean_squared_error(y0, y_test)"
   ]
  },
  {
   "cell_type": "code",
   "execution_count": 22,
   "metadata": {
    "collapsed": true
   },
   "outputs": [],
   "source": [
    "from sklearn import tree"
   ]
  },
  {
   "cell_type": "code",
   "execution_count": 27,
   "metadata": {
    "collapsed": false
   },
   "outputs": [
    {
     "name": "stdout",
     "output_type": "stream",
     "text": [
      "Mean squared error =  36.1549333546\n"
     ]
    }
   ],
   "source": [
    "model = tree.DecisionTreeRegressor(max_depth = 10)\n",
    "model.fit(X_train, y_train)\n",
    "y1 = model.predict(X_test)\n",
    "print \"Mean squared error = \", mean_squared_error(y1, y_test)"
   ]
  },
  {
   "cell_type": "markdown",
   "metadata": {},
   "source": [
    "Построенное дерево работает в 3 раза хуже встроенного"
   ]
  }
 ],
 "metadata": {
  "kernelspec": {
   "display_name": "Python 2",
   "language": "python2",
   "name": "python2"
  },
  "language_info": {
   "codemirror_mode": {
    "name": "ipython",
    "version": 2
   },
   "file_extension": ".py",
   "mimetype": "text/x-python",
   "name": "python",
   "nbconvert_exporter": "python",
   "pygments_lexer": "ipython2",
   "version": "2.7.13"
  }
 },
 "nbformat": 4,
 "nbformat_minor": 0
}
