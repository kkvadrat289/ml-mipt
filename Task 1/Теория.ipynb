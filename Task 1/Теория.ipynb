{
 "cells": [
  {
   "cell_type": "markdown",
   "metadata": {},
   "source": [
    "# Теоретические задания"
   ]
  },
  {
   "cell_type": "markdown",
   "metadata": {},
   "source": [
    "## Задача 1"
   ]
  },
  {
   "cell_type": "markdown",
   "metadata": {},
   "source": [
    "Общий вид Байесовского классификатора: $a(x) = argmax_yP(x|y)P(y)$. Если классы имеют одинаковые априорные вероятности $P(y)$, то $a(x) = P(y)argmax_yP(x|y) = P(y)\\frac{1}{\\sqrt{2\\pi\\sigma^2}}\\cdot argmax_yexp(-\\frac{(x^{(k)} - \\mu_{yk})^2}{2\\sigma^2})$. Из формулы видно, что максимум функции достигается при максимуме показателя экспоненты, то есть при ${x^{(k)}}$ максимально близком к $\\mu_{ky}$, что эквивалентно доказываемому утверждению."
   ]
  },
  {
   "cell_type": "markdown",
   "metadata": {},
   "source": [
    "## Задача 2"
   ]
  },
  {
   "cell_type": "markdown",
   "metadata": {},
   "source": [
    "Заметим, что $true\\_positives + false\\_negatives = const1 = class\\_size - \\text{количество объектов класса}$, а $false\\_positives + true\\_negatives = const2 = out\\_of\\_class\\_size - \\text{количество объектов вне класса}$. \n",
    "\n",
    "Тогда, считая, что $N$ - количество объектов в выборке, $N_1$ - количество объектов в классе, получим:\n",
    "\n",
    "$E(TPR) = \\frac{p\\cdot N_1}{const1} = \\frac{p\\cdot N_1}{N_1} = p$ - матожидание TPR\n",
    "\n",
    "$E(FPR) = \\frac{p\\cdot(N-N_1)}{const2} = \\frac{p\\cdot(N-N_1)}{N-N_1} = p$ - матожидание FPR\n",
    "\n",
    "причем TPR независимо с FPR.\n",
    "\n",
    "Получили, что в треугольном AUC-ROC точка в среднем попадает на прямую TPR = FPR, что эквивалентно тому, что кривая вырождается в прямую, а фигура под ней - теугольник площади 0.5, причём этот вывод не зависит от p. Что и требовалось доказать."
   ]
  }
 ],
 "metadata": {
  "kernelspec": {
   "display_name": "Python 2",
   "language": "python2",
   "name": "python2"
  },
  "language_info": {
   "codemirror_mode": {
    "name": "ipython",
    "version": 2
   },
   "file_extension": ".py",
   "mimetype": "text/x-python",
   "name": "python",
   "nbconvert_exporter": "python",
   "pygments_lexer": "ipython2",
   "version": "2.7.12"
  }
 },
 "nbformat": 4,
 "nbformat_minor": 0
}
